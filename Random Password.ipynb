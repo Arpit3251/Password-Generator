{
 "cells": [
  {
   "cell_type": "code",
   "execution_count": 15,
   "id": "9d592241",
   "metadata": {},
   "outputs": [
    {
     "name": "stdout",
     "output_type": "stream",
     "text": [
      "Enter the length of the password:15\n",
      "Enter the no. of passwords required5\n",
      "['+~qoKSD<sKZ1Bvr', 'oJu7U_~z),)!*^)', 'jp}dk<]9a\\\\4h%Vp', 'ck)y>)$g`)eJbvf', '\"@^wuR3gPhwR./\\\\']\n"
     ]
    }
   ],
   "source": [
    "import random\n",
    "import string as s\n",
    "temp=[]\n",
    "\n",
    "passwordl=[]\n",
    "char_list=[s.ascii_lowercase,s.ascii_uppercase,s.digits,s.punctuation]\n",
    "\n",
    "for i in range(len(char_list)):\n",
    "    \n",
    "    for j in char_list[i]:\n",
    "        temp.append(j)\n",
    "random.shuffle(temp)\n",
    "l=int(input(\"Enter the length of the password:\"))\n",
    "n=int(input(\"Enter the no. of passwords required\"))\n",
    "for k in range(n):\n",
    "    password=[]\n",
    "    for i in range(l):\n",
    "        c=random.choice(temp)\n",
    "        password.append(c)\n",
    "    passwordl.append(\"\".join(password))\n",
    "print(passwordl)\n",
    "    \n",
    "    "
   ]
  }
 ],
 "metadata": {
  "kernelspec": {
   "display_name": "Python 3 (ipykernel)",
   "language": "python",
   "name": "python3"
  },
  "language_info": {
   "codemirror_mode": {
    "name": "ipython",
    "version": 3
   },
   "file_extension": ".py",
   "mimetype": "text/x-python",
   "name": "python",
   "nbconvert_exporter": "python",
   "pygments_lexer": "ipython3",
   "version": "3.9.7"
  }
 },
 "nbformat": 4,
 "nbformat_minor": 5
}
